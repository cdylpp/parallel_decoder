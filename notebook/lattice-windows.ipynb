{
 "cells": [
  {
   "cell_type": "code",
   "execution_count": 1,
   "id": "70941b1e",
   "metadata": {},
   "outputs": [
    {
     "ename": "ModuleNotFoundError",
     "evalue": "No module named 'parallel_decoder'",
     "output_type": "error",
     "traceback": [
      "\u001b[31m---------------------------------------------------------------------------\u001b[39m",
      "\u001b[31mModuleNotFoundError\u001b[39m                       Traceback (most recent call last)",
      "\u001b[36mCell\u001b[39m\u001b[36m \u001b[39m\u001b[32mIn[1]\u001b[39m\u001b[32m, line 3\u001b[39m\n\u001b[32m      1\u001b[39m \u001b[38;5;28;01mimport\u001b[39;00m\u001b[38;5;250m \u001b[39m\u001b[34;01mstim\u001b[39;00m\n\u001b[32m      2\u001b[39m \u001b[38;5;28;01mimport\u001b[39;00m\u001b[38;5;250m \u001b[39m\u001b[34;01mnetworkx\u001b[39;00m\u001b[38;5;250m \u001b[39m\u001b[38;5;28;01mas\u001b[39;00m\u001b[38;5;250m \u001b[39m\u001b[34;01mnx\u001b[39;00m\n\u001b[32m----> \u001b[39m\u001b[32m3\u001b[39m \u001b[38;5;28;01mimport\u001b[39;00m\u001b[38;5;250m \u001b[39m\u001b[34;01mparallel_decoder\u001b[39;00m\u001b[34;01m.\u001b[39;00m\u001b[34;01msrc\u001b[39;00m\u001b[34;01m.\u001b[39;00m\u001b[34;01mlattice\u001b[39;00m\n\u001b[32m      5\u001b[39m c = stim.Circuit.generated(\u001b[33m\"\u001b[39m\u001b[33msurface_code:unrotated_memory_x\u001b[39m\u001b[33m\"\u001b[39m,distance=\u001b[32m5\u001b[39m,rounds=\u001b[32m1\u001b[39m,before_measure_flip_probability=\u001b[32m0.02\u001b[39m)\n\u001b[32m      6\u001b[39m dem = c.detector_error_model()\n",
      "\u001b[31mModuleNotFoundError\u001b[39m: No module named 'parallel_decoder'"
     ]
    }
   ],
   "source": [
    "import stim\n",
    "import networkx as nx\n",
    "import parallel_decoder.src.lattice\n",
    "\n",
    "c = stim.Circuit.generated(\"surface_code:unrotated_memory_x\",distance=5,rounds=1,before_measure_flip_probability=0.02)\n",
    "dem = c.detector_error_model()\n",
    "\n",
    "G = nx.Graph()\n",
    "\n",
    "\n",
    "G.add_nodes_from(range(dem.num_detectors))\n",
    "\n",
    "\n",
    "\n",
    "\n",
    "G = lattice.Lattice.from_dem(dem)\n",
    "\n",
    "\n",
    "pos = nx.get_node_attributes(G, \"pos\")\n",
    "nx.draw(G, pos)"
   ]
  },
  {
   "cell_type": "code",
   "execution_count": 3,
   "id": "8fb5261a",
   "metadata": {},
   "outputs": [
    {
     "data": {
      "text/plain": [
       "'/Users/codylepp/Development/picasso/parallel decoder/parallel_decoder/notebooks'"
      ]
     },
     "execution_count": 3,
     "metadata": {},
     "output_type": "execute_result"
    }
   ],
   "source": [
    "import os \n",
    "os.getcwd()"
   ]
  },
  {
   "cell_type": "code",
   "execution_count": null,
   "id": "a87b8508",
   "metadata": {},
   "outputs": [],
   "source": []
  }
 ],
 "metadata": {
  "kernelspec": {
   "display_name": ".venv311",
   "language": "python",
   "name": "python3"
  },
  "language_info": {
   "codemirror_mode": {
    "name": "ipython",
    "version": 3
   },
   "file_extension": ".py",
   "mimetype": "text/x-python",
   "name": "python",
   "nbconvert_exporter": "python",
   "pygments_lexer": "ipython3",
   "version": "3.11.13"
  }
 },
 "nbformat": 4,
 "nbformat_minor": 5
}
